{
  "nbformat": 4,
  "nbformat_minor": 0,
  "metadata": {
    "colab": {
      "provenance": [],
      "authorship_tag": "ABX9TyPuKoZXsNB1IAjEwhWYR7P/",
      "include_colab_link": true
    },
    "kernelspec": {
      "name": "python3",
      "display_name": "Python 3"
    },
    "language_info": {
      "name": "python"
    }
  },
  "cells": [
    {
      "cell_type": "markdown",
      "metadata": {
        "id": "view-in-github",
        "colab_type": "text"
      },
      "source": [
        "<a href=\"https://colab.research.google.com/github/ak1909552/computer-security-ciphers/blob/main/ciphers.ipynb\" target=\"_parent\"><img src=\"https://colab.research.google.com/assets/colab-badge.svg\" alt=\"Open In Colab\"/></a>"
      ]
    },
    {
      "cell_type": "markdown",
      "source": [
        "## Block ciphers"
      ],
      "metadata": {
        "id": "aLMlljXd7Tfu"
      }
    },
    {
      "cell_type": "markdown",
      "source": [
        "### Ceaser Cipher\n",
        "- Each letter is substituted by a letter K letters away.\n",
        "- Letters wrap around with at the end of the alphabet with the expression **mod 26**"
      ],
      "metadata": {
        "id": "e0xiR9I3drfk"
      }
    },
    {
      "cell_type": "code",
      "source": [
        "class ceaser:\n",
        "    def __init__(self, message, key):\n",
        "        self.message = message\n",
        "        self.key = key\n",
        "\n",
        "    def encrypt(self):\n",
        "        a = ord('a')\n",
        "        z = ord('z')\n",
        "        enc = ''\n",
        "        for i in self.message:\n",
        "            if ord(i) >= a and ord(i) <= z:\n",
        "                c = (ord(i) - a + self.key) % 26\n",
        "                enc += chr(c + a)\n",
        "            else:\n",
        "                enc += i\n",
        "        return enc\n",
        "    \n",
        "    def decrypt(self):\n",
        "        a = ord('a')\n",
        "        z = ord('z')\n",
        "        dec = ''\n",
        "        for i in self.message:\n",
        "            if ord(i) >= a and ord(i) <= z:\n",
        "                c = (ord(i) - a - self.key) % 26\n",
        "                dec += chr(c + a)\n",
        "            else:\n",
        "                dec += i\n",
        "        return dec"
      ],
      "metadata": {
        "id": "oNZtoznaS2dS"
      },
      "execution_count": null,
      "outputs": []
    },
    {
      "cell_type": "code",
      "source": [
        "ce = ceaser('attack at dawn', 3)\n",
        "print(ce.encrypt())\n",
        "cd = ceaser(ce.encrypt(), 3)\n",
        "cd.decrypt()"
      ],
      "metadata": {
        "colab": {
          "base_uri": "https://localhost:8080/",
          "height": 53
        },
        "id": "64IvpXSsfVS8",
        "outputId": "0a4da720-c930-40b4-9322-7a67433c0cac"
      },
      "execution_count": null,
      "outputs": [
        {
          "output_type": "stream",
          "name": "stdout",
          "text": [
            "dwwdfn dw gdzq\n"
          ]
        },
        {
          "output_type": "execute_result",
          "data": {
            "text/plain": [
              "'attack at dawn'"
            ],
            "application/vnd.google.colaboratory.intrinsic+json": {
              "type": "string"
            }
          },
          "metadata": {},
          "execution_count": 13
        }
      ]
    },
    {
      "cell_type": "markdown",
      "source": [
        "- Can be easily broken with brute force methods"
      ],
      "metadata": {
        "id": "VDlPzH7ghZG2"
      }
    },
    {
      "cell_type": "markdown",
      "source": [
        "### Substitution cipher"
      ],
      "metadata": {
        "id": "917aZbeaka8n"
      }
    },
    {
      "cell_type": "code",
      "source": [
        "import random\n",
        "random.seed('voilence is absolute')\n",
        "\n",
        "class substitution:\n",
        "    def __init__(self, message, key = None):\n",
        "        self.message = message\n",
        "        if not key:\n",
        "            self.key = [[i for i in range(26)] for i in range(2)]\n",
        "            self.generate()\n",
        "        else:\n",
        "            self.key = key\n",
        "    \n",
        "    def generate(self):\n",
        "        ## see Fisher-Yates shuffle algorithm\n",
        "        for i in range(25, 0, -1):\n",
        "            ## swap\n",
        "            location = random.randint(0, i)\n",
        "            temp = self.key[0][i]\n",
        "            self.key[0][i] = self.key[0][location]\n",
        "            self.key[0][location] = temp\n",
        "        \n",
        "        for i, elem in enumerate(self.key[0]):\n",
        "            self.key[1][elem] = i\n",
        "\n",
        "\n",
        "    \n",
        "    def encrypt(self):\n",
        "        a = ord('a')\n",
        "        z = ord('z')\n",
        "        enc = ''\n",
        "        for i in self.message:\n",
        "            if ord(i) >= a and ord(i) <= z:\n",
        "                c = self.key[0][ord(i) - a] + a\n",
        "                enc += chr(c)\n",
        "            else:\n",
        "                enc += i\n",
        "        return enc\n",
        "\n",
        "    def decrypt(self):\n",
        "        a = ord('a')\n",
        "        z = ord('z')\n",
        "        dec = ''\n",
        "        for i in self.message:\n",
        "            if ord(i) >= a and ord(i) <= z:\n",
        "                c = self.key[1][ord(i) - a] + a\n",
        "                dec += chr(c)\n",
        "            else:\n",
        "                dec += i\n",
        "        return dec\n"
      ],
      "metadata": {
        "id": "MeG0MpW7kgQL"
      },
      "execution_count": null,
      "outputs": []
    },
    {
      "cell_type": "code",
      "source": [
        "se = substitution('we will meet in the middle of the library at noon all arangements are made.')\n",
        "sd = substitution(se.encrypt(), se.key)\n",
        "sd.decrypt()"
      ],
      "metadata": {
        "colab": {
          "base_uri": "https://localhost:8080/",
          "height": 35
        },
        "id": "GRS2_lUFo-Oo",
        "outputId": "cd80f509-e88a-4287-fb71-e8116df57119"
      },
      "execution_count": null,
      "outputs": [
        {
          "output_type": "execute_result",
          "data": {
            "text/plain": [
              "'we will meet in the middle of the library at noon all arangements are made.'"
            ],
            "application/vnd.google.colaboratory.intrinsic+json": {
              "type": "string"
            }
          },
          "metadata": {},
          "execution_count": 9
        }
      ]
    },
    {
      "cell_type": "code",
      "source": [
        "print(se.encrypt())\n",
        "# se.key"
      ],
      "metadata": {
        "colab": {
          "base_uri": "https://localhost:8080/"
        },
        "id": "6iAX5OJoarDA",
        "outputId": "1ad0a4fa-3245-4e35-ee40-70e3fd478fd5"
      },
      "execution_count": null,
      "outputs": [
        {
          "output_type": "stream",
          "name": "stdout",
          "text": [
            "wc wxbb nccy xv ydc nxjjbc gq ydc bxoztzf ty vggv tbb tztvacncvym tzc ntjc.\n"
          ]
        }
      ]
    },
    {
      "cell_type": "markdown",
      "source": [],
      "metadata": {
        "id": "NsxlbklUa9Fq"
      }
    },
    {
      "cell_type": "markdown",
      "source": [
        "- Very resilient to brute force attacks (order of $26!$)\n",
        "- However, susceptible to letter frequency analysis"
      ],
      "metadata": {
        "id": "lgsGJ5aH95im"
      }
    },
    {
      "cell_type": "markdown",
      "source": [
        "### Vigenere cipher\n",
        "A poly-alphabetic cipher which uses key based modulo arithmetic to perform the encryption."
      ],
      "metadata": {
        "id": "evWAkGwE-Yyj"
      }
    },
    {
      "cell_type": "code",
      "source": [
        "class vignere:\n",
        "    def __init__(self, message, key):\n",
        "        self.message = message\n",
        "        self.key = key\n",
        "        if not key:\n",
        "            self.n = len(message)\n",
        "        else:\n",
        "            self.n = len(key)\n",
        "    \n",
        "    def encrypt(self):\n",
        "        a = ord('a')\n",
        "        z = ord('z')\n",
        "        enc = ''\n",
        "        for i, l in enumerate(self.message):\n",
        "            if ord(l) >= a and ord(l) <= z:\n",
        "                c = (ord(self.key[i % self.n]) + ord(l) - 2 * a) % 26 + a\n",
        "                enc += chr(c)\n",
        "            else:\n",
        "                enc += l\n",
        "        return enc\n",
        "\n",
        "    def decrypt(self):\n",
        "        a = ord('a')\n",
        "        z = ord('z')\n",
        "        dec = ''\n",
        "        for i, l in enumerate(self.message):\n",
        "            if ord(l) >= a and ord(l) <= z:\n",
        "                c = (ord(l) - ord(self.key[i % self.n])) % 26 + a\n",
        "                dec += chr(c)\n",
        "            else:\n",
        "                dec += l\n",
        "        return dec"
      ],
      "metadata": {
        "id": "KgPcISES-bFc"
      },
      "execution_count": null,
      "outputs": []
    },
    {
      "cell_type": "code",
      "source": [
        "ve = vignere('attack at dawn', 'lemon')\n",
        "vd = vignere(ve.encrypt(), 'lemon')\n",
        "vd.decrypt()"
      ],
      "metadata": {
        "colab": {
          "base_uri": "https://localhost:8080/",
          "height": 35
        },
        "id": "hzHJka5qGKj6",
        "outputId": "90ad4dc8-b513-43c6-b02e-5b9b3a872c1e"
      },
      "execution_count": null,
      "outputs": [
        {
          "output_type": "execute_result",
          "data": {
            "text/plain": [
              "'attack at dawn'"
            ],
            "application/vnd.google.colaboratory.intrinsic+json": {
              "type": "string"
            }
          },
          "metadata": {},
          "execution_count": 6
        }
      ]
    },
    {
      "cell_type": "markdown",
      "source": [
        "Frequency analysis is possible but it is much more difficult"
      ],
      "metadata": {
        "id": "tk8kUt5_hFsV"
      }
    },
    {
      "cell_type": "markdown",
      "source": [
        "### One-time Pad cipher"
      ],
      "metadata": {
        "id": "5q_f15zUhM_g"
      }
    },
    {
      "cell_type": "code",
      "source": [
        "import random\n",
        "class otp(vignere):\n",
        "    def __init__(self, message, key = None):\n",
        "        super(otp, self).__init__(message, key)\n",
        "        if not key:\n",
        "            self.generate()\n",
        "        else:\n",
        "            self.key = key\n",
        "\n",
        "    def generate(self):\n",
        "        self.key = ''.join(random.choice('abcdefghijklmnopqrstuvwxyz') for i in range(len(self.message)))\n",
        "    "
      ],
      "metadata": {
        "id": "krq5X82yhMUz"
      },
      "execution_count": null,
      "outputs": []
    },
    {
      "cell_type": "code",
      "source": [
        "oe = otp('attack at dawn')\n",
        "od = otp(oe.encrypt(), oe.key)\n",
        "print(od.decrypt())\n",
        "print(oe.key)"
      ],
      "metadata": {
        "colab": {
          "base_uri": "https://localhost:8080/"
        },
        "id": "F2yr0WBNjRk2",
        "outputId": "df909a14-8eb3-4c4c-9a6e-ba6d807537d0"
      },
      "execution_count": null,
      "outputs": [
        {
          "output_type": "stream",
          "name": "stdout",
          "text": [
            "attack at dawn\n",
            "sjmeszufoktuyt\n"
          ]
        }
      ]
    },
    {
      "cell_type": "markdown",
      "source": [
        "- Truly unbreakable (even with unlimited computing resources), provided sequence of key is completely random\n",
        "- However, difficult to implement in practice because sharing keys is difficult"
      ],
      "metadata": {
        "id": "GYXzRXVn9Fyd"
      }
    },
    {
      "cell_type": "markdown",
      "source": [
        "### Transposition cipher"
      ],
      "metadata": {
        "id": "gO_yUjjBWA9O"
      }
    },
    {
      "cell_type": "code",
      "source": [
        "class transposition:\n",
        "    def __init__(self, message, key):\n",
        "        self.message = message\n",
        "        self.key = key\n",
        "    \n",
        "    # def rank(self):\n",
        "    #     self.rank = [0 for _ in range(len(self.key))]\n",
        "    #     min = ord(self.key[0])\n",
        "    #     for index, i in enumerate(self.key):\n",
        "    #         if ord(i) <= min:\n",
        "    #             for \n",
        "            \n",
        "\n",
        "    def encrypt(self):\n",
        "        enc = ''\n",
        "\n",
        "\n"
      ],
      "metadata": {
        "id": "AeaPTCYbWDVB"
      },
      "execution_count": null,
      "outputs": []
    },
    {
      "cell_type": "markdown",
      "source": [
        "## Stream ciphers"
      ],
      "metadata": {
        "id": "CNPUvbSB9Vbv"
      }
    },
    {
      "cell_type": "markdown",
      "source": [
        "#### LFSR (linear feedback shift registers)"
      ],
      "metadata": {
        "id": "Iu3eR5RrECLs"
      }
    },
    {
      "cell_type": "code",
      "source": [
        "import random\n",
        "class lfsr:\n",
        "    def __init__(self, n, seq):\n",
        "        self.n = n\n",
        "        self.seq = seq\n",
        "        self.seed()\n",
        "\n",
        "    def seed(self):\n",
        "        self.sr = random.getrandbits(self.n)   \n",
        "    \n",
        "    def cycle(self):\n",
        "        val = 0\n",
        "        for i in self.seq:\n",
        "            bit = (self.sr & (1 << i)) >> i\n",
        "            val = val ^ bit\n",
        "        \n",
        "        self.sr = self.sr >> 1\n",
        "        mask = 1 << self.n - 1\n",
        "        self.sr = ((self.sr & ~mask) | ((val << self.n - 1) & mask))\n",
        "    \n",
        "    def maxbit(self):\n",
        "        return self.sr >> self.n - 1"
      ],
      "metadata": {
        "id": "PdeewyLKEBh9"
      },
      "execution_count": null,
      "outputs": []
    },
    {
      "cell_type": "code",
      "source": [
        "l = lfsr(3, [0,1])\n",
        "\n",
        "for i in range(5):\n",
        "    l.cycle()\n",
        "    print(l.sr)"
      ],
      "metadata": {
        "colab": {
          "base_uri": "https://localhost:8080/"
        },
        "id": "TMRn1s0-E83M",
        "outputId": "a5876ff1-1655-471a-a16a-9f4282fd404f"
      },
      "execution_count": null,
      "outputs": [
        {
          "output_type": "stream",
          "name": "stdout",
          "text": [
            "6\n",
            "7\n",
            "3\n",
            "1\n",
            "4\n"
          ]
        }
      ]
    },
    {
      "cell_type": "markdown",
      "source": [
        "### A5/1 cipher"
      ],
      "metadata": {
        "id": "7W-ivTwoNDYf"
      }
    },
    {
      "cell_type": "code",
      "source": [
        "class a51:\n",
        "    def __init__(self, message = None):\n",
        "        self.x = lfsr(19, [13, 16, 17, 18])\n",
        "        self.y = lfsr(22, [20, 21])\n",
        "        self.z = lfsr(23, [7, 20, 21, 22])\n",
        "        if message:\n",
        "            self.message = message\n",
        "\n",
        "    def bitgen(self):\n",
        "        x8 = (self.x.sr & 1 << 8) >> 8\n",
        "        y10 = (self.y.sr & 1 << 10) >> 10\n",
        "        z10 = (self.z.sr & 1 << 10) >> 10\n",
        "\n",
        "        maj = 0\n",
        "        if not x8 ^ y10 or not x8 ^ z10 or not y10 ^ z10:\n",
        "            maj = 1\n",
        "        \n",
        "        if x8 == maj:\n",
        "            self.x.cycle()\n",
        "        if y10 == maj:\n",
        "            self.x.cycle()\n",
        "        if z10 == maj:\n",
        "            self.z.cycle()\n",
        "        \n",
        "        return self.x.maxbit() ^ self.y.maxbit() ^ self.z.maxbit()\n",
        "    \n",
        "    def keygen(self, size):\n",
        "        key = 0\n",
        "        for i in range(size):\n",
        "            key += key << 1 + self.bitgen()\n",
        "        return key\n",
        "\n",
        "    def encode(self, size = 128):\n",
        "        key = self.keygen(size)\n",
        "        barr = int.from_bytes(bytes(self.message, 'ascii'), byteorder = 'little')\n",
        "        mask = (1 << size) - 1\n",
        "        while barr > 0:\n",
        "            enc = key ^ (barr & mask)\n",
        "            barr = barr >> size\n",
        "            yield key, enc        \n",
        "\n",
        "    def decode(self, key, cipher, size):\n",
        "        dec = key ^ cipher\n",
        "        return str(dec.to_bytes(size // 8, 'little'), encoding = 'ascii')"
      ],
      "metadata": {
        "id": "3DJxBwNxNC-K"
      },
      "execution_count": null,
      "outputs": []
    },
    {
      "cell_type": "code",
      "source": [
        "a = a51(\"The quick brown fox runs from me because I am the greatest hunter of foxes to ever exist. There are people out there that think that javascript is a useful language.\")\n",
        "b = a51()"
      ],
      "metadata": {
        "id": "r5wzEQfwT1SI"
      },
      "execution_count": null,
      "outputs": []
    },
    {
      "cell_type": "code",
      "source": [
        "size = 128\n",
        "for key, cipher in a.encode(size):\n",
        "    print(b.decode(key, cipher, size))"
      ],
      "metadata": {
        "colab": {
          "base_uri": "https://localhost:8080/"
        },
        "id": "tD7-dzpv5mgu",
        "outputId": "20dfebc7-b4bd-4a79-a909-d2d8eae9b9db"
      },
      "execution_count": null,
      "outputs": [
        {
          "output_type": "stream",
          "name": "stdout",
          "text": [
            "The quick brown fox\n",
            " runs from me becau\n",
            "se I am the greates\n",
            "t hunter of foxes t\n",
            "o ever exist. There\n",
            " are people out the\n",
            "re that think that \n",
            "javascript is a use\n",
            "ful language.\u0000\u0000\u0000\u0000\u0000\u0000\n"
          ]
        }
      ]
    },
    {
      "cell_type": "markdown",
      "source": [
        "## DES\n"
      ],
      "metadata": {
        "id": "KpItX7Kjx1eA"
      }
    },
    {
      "cell_type": "markdown",
      "source": [
        "### Keygen"
      ],
      "metadata": {
        "id": "xQGjEzHEx6Vj"
      }
    },
    {
      "cell_type": "code",
      "source": [
        "import secrets\n",
        "class keygen:\n",
        "    def __init__(self):\n",
        "        self.masterkey = int.from_bytes(secrets.token_bytes(8), byteorder = 'big') ## 64-bit master key\n",
        "        self.roundkeys = []\n",
        "\n",
        "        self.pc1_left = [\n",
        "            57, 49, 41, 33, 25, 17, 9,\n",
        "            1, 58, 50, 42, 34, 26, 18,\n",
        "            10, 2, 59, 51, 43, 35, 27,\n",
        "            19, 11, 3, 60, 52, 44, 36\n",
        "        ]\n",
        "\n",
        "        self.pc1_right = [\n",
        "            63, 55, 47, 39, 31, 23, 15,\n",
        "            7, 62, 54, 46, 38, 30, 22,\n",
        "            14, 6, 61, 53, 45, 37, 29,\n",
        "            21, 13, 5, 28, 20, 12, 4\n",
        "        ]\n",
        "\n",
        "        self.pc2_t = [\n",
        "            14, 17, 11, 24, 1, 5, 3, 28,\n",
        "            15, 6, 21, 10, 23, 19, 12, 4,\n",
        "            26, 8, 16, 7, 27, 20, 13, 2,\n",
        "            41, 52, 31, 37, 47, 55, 30, 40,\n",
        "            51, 45, 33, 48, 44, 49, 39, 56,\n",
        "            34, 53, 46, 42, 50, 36, 29, 32\n",
        "        ]\n",
        "\n",
        "    def split56(self, x):\n",
        "        rmask = 2 ** 28 - 1\n",
        "        lmask = rmask << 28\n",
        "        c = (x & lmask) >> 28\n",
        "        d = (x & rmask)\n",
        "        return c, d\n",
        "    \n",
        "    def pc1(self):\n",
        "        a = 0\n",
        "        for i in self.pc1_left:\n",
        "            a = a << 1\n",
        "            a = a | (self.masterkey & 1 << (i - 1)) >> (i - 1)\n",
        "        \n",
        "        for i in self.pc1_right:\n",
        "            a = a << 1\n",
        "            a = a | (self.masterkey & 1 << (i - 1)) >> (i - 1)\n",
        "            return a\n",
        "        \n",
        "\n",
        "    def shiftLeft(self, x, n = 1):\n",
        "        c, d = self.split56(x)\n",
        "        c = ((c << 1) | (c >> 27)) & 0XFFFFFFF\n",
        "        d = ((d << 1) | (d >> 27)) & 0XFFFFFFF\n",
        "\n",
        "        if n == 2:\n",
        "            c = ((c << 1) | (c >> 27)) & 0XFFFFFFF\n",
        "            d = ((d << 1) | (d >> 27)) & 0XFFFFFFF\n",
        "\n",
        "        y = c << 28 ^ d\n",
        "        return y\n",
        "    \n",
        "    def pc2(self,x):\n",
        "        a = 0\n",
        "        for i in self.pc2_t:\n",
        "            a = a << 1\n",
        "            a = a ^ (x & (1 << (i - 1)) >> (i - 1))\n",
        "        return a\n",
        "\n",
        "    def rounds(self):\n",
        "        p1 = self.pc1()\n",
        "        for i in range(1, 17, 1):\n",
        "            if i in [1, 2, 9, 16]:\n",
        "                p1 = self.shiftLeft(p1)\n",
        "            else:\n",
        "                p1 = self.shiftLeft(p1, n = 2)\n",
        "            yield p1\n",
        "    \n",
        "    def genkeys(self):\n",
        "        for k in self.rounds():\n",
        "            self.roundkeys.append(k)\n",
        "    \n"
      ],
      "metadata": {
        "id": "2V-Hv8Vgx5g2"
      },
      "execution_count": null,
      "outputs": []
    },
    {
      "cell_type": "code",
      "source": [
        "k = keygen()\n",
        "print(hex(k.masterkey))\n",
        "print(hex(k.pc1()))"
      ],
      "metadata": {
        "colab": {
          "base_uri": "https://localhost:8080/"
        },
        "id": "SS0eEqPYOTvR",
        "outputId": "128eb90c-7891-47a3-ee5c-93bd78a0e5a5"
      },
      "execution_count": null,
      "outputs": [
        {
          "output_type": "stream",
          "name": "stdout",
          "text": [
            "0x281ff37daa4fbcce\n",
            "0x746d57d\n",
            "0xe8daafa\n"
          ]
        }
      ]
    },
    {
      "cell_type": "code",
      "source": [],
      "metadata": {
        "colab": {
          "base_uri": "https://localhost:8080/"
        },
        "id": "FS5FTF2aOadd",
        "outputId": "edc33d5e-ad78-4591-ba43-61a9e42f3569"
      },
      "execution_count": null,
      "outputs": [
        {
          "output_type": "stream",
          "name": "stdout",
          "text": [
            "0x1ca72156c8b801e8\n",
            "0x6250d08\n",
            "0xc4a1a10\n"
          ]
        }
      ]
    }
  ]
}